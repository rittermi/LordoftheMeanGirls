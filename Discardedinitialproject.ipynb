{
  "nbformat": 4,
  "nbformat_minor": 0,
  "metadata": {
    "colab": {
      "name": "Train a GPT-2 Text-Generating Model w/ GPU",
      "provenance": [],
      "collapsed_sections": [],
      "toc_visible": true,
      "include_colab_link": true
    },
    "kernelspec": {
      "name": "python3",
      "display_name": "Python 3"
    },
    "accelerator": "GPU"
  },
  "cells": [
    {
      "cell_type": "markdown",
      "metadata": {
        "id": "view-in-github",
        "colab_type": "text"
      },
      "source": [
        "<a href=\"https://colab.research.google.com/github/rittermi/LordoftheMeanGirls/blob/main/Discardedinitialproject.ipynb\" target=\"_parent\"><img src=\"https://colab.research.google.com/assets/colab-badge.svg\" alt=\"Open In Colab\"/></a>"
      ]
    },
    {
      "cell_type": "markdown",
      "metadata": {
        "id": "H7LoMj4GA4n_"
      },
      "source": [
        "#  Train a GPT-2 Text-Generating Model w/ GPU For Free \n",
        "\n",
        "by [Max Woolf](http://minimaxir.com)\n",
        "\n",
        "*Last updated: February 14th, 2021*\n",
        "\n",
        "Retrain an advanced text generating neural network on any text dataset **for free on a GPU using Collaboratory** using `gpt-2-simple`!\n",
        "\n",
        "For more about `gpt-2-simple`, you can visit [this GitHub repository](https://github.com/minimaxir/gpt-2-simple). You can also read my [blog post](https://minimaxir.com/2019/09/howto-gpt2/) for more information how to use this notebook!\n",
        "\n",
        "\n",
        "To get started:\n",
        "\n",
        "1. Copy this notebook to your Google Drive to keep it and save your changes. (File -> Save a Copy in Drive)\n",
        "2. Make sure you're running the notebook in Google Chrome.\n",
        "3. Run the cells below:\n"
      ]
    },
    {
      "cell_type": "code",
      "metadata": {
        "id": "KBkpRgBCBS2_",
        "colab": {
          "base_uri": "https://localhost:8080/"
        },
        "outputId": "a36678f6-9c5d-4566-e2f5-c9dd4310ddd2"
      },
      "source": [
        "%tensorflow_version 1.x\n",
        "!pip install -q gpt-2-simple\n",
        "import gpt_2_simple as gpt2\n",
        "from datetime import datetime\n",
        "from google.colab import files"
      ],
      "execution_count": 1,
      "outputs": [
        {
          "output_type": "stream",
          "text": [
            "TensorFlow 1.x selected.\n",
            "  Building wheel for gpt-2-simple (setup.py) ... \u001b[?25l\u001b[?25hdone\n",
            "WARNING:tensorflow:\n",
            "The TensorFlow contrib module will not be included in TensorFlow 2.0.\n",
            "For more information, please see:\n",
            "  * https://github.com/tensorflow/community/blob/master/rfcs/20180907-contrib-sunset.md\n",
            "  * https://github.com/tensorflow/addons\n",
            "  * https://github.com/tensorflow/io (for I/O related ops)\n",
            "If you depend on functionality not listed there, please file an issue.\n",
            "\n"
          ],
          "name": "stdout"
        }
      ]
    },
    {
      "cell_type": "markdown",
      "metadata": {
        "id": "Bj2IJLHP3KwE"
      },
      "source": [
        "## GPU\n",
        "\n",
        "Colaboratory uses either a Nvidia T4 GPU or an Nvidia K80 GPU. The T4 is slightly faster than the old K80 for training GPT-2, and has more memory allowing you to train the larger GPT-2 models and generate more text.\n",
        "\n",
        "You can verify which GPU is active by running the cell below."
      ]
    },
    {
      "cell_type": "code",
      "metadata": {
        "id": "sUmTooTW3osf",
        "colab": {
          "base_uri": "https://localhost:8080/"
        },
        "outputId": "3b8a4619-6c5a-4ed5-8530-6ec9fa7c8e3c"
      },
      "source": [
        "!nvidia-smi"
      ],
      "execution_count": 2,
      "outputs": [
        {
          "output_type": "stream",
          "text": [
            "Tue Feb 23 03:29:55 2021       \n",
            "+-----------------------------------------------------------------------------+\n",
            "| NVIDIA-SMI 460.39       Driver Version: 460.32.03    CUDA Version: 11.2     |\n",
            "|-------------------------------+----------------------+----------------------+\n",
            "| GPU  Name        Persistence-M| Bus-Id        Disp.A | Volatile Uncorr. ECC |\n",
            "| Fan  Temp  Perf  Pwr:Usage/Cap|         Memory-Usage | GPU-Util  Compute M. |\n",
            "|                               |                      |               MIG M. |\n",
            "|===============================+======================+======================|\n",
            "|   0  Tesla T4            Off  | 00000000:00:04.0 Off |                    0 |\n",
            "| N/A   52C    P8    11W /  70W |      0MiB / 15109MiB |      0%      Default |\n",
            "|                               |                      |                  N/A |\n",
            "+-------------------------------+----------------------+----------------------+\n",
            "                                                                               \n",
            "+-----------------------------------------------------------------------------+\n",
            "| Processes:                                                                  |\n",
            "|  GPU   GI   CI        PID   Type   Process name                  GPU Memory |\n",
            "|        ID   ID                                                   Usage      |\n",
            "|=============================================================================|\n",
            "|  No running processes found                                                 |\n",
            "+-----------------------------------------------------------------------------+\n"
          ],
          "name": "stdout"
        }
      ]
    },
    {
      "cell_type": "markdown",
      "metadata": {
        "id": "0wXB05bPDYxS"
      },
      "source": [
        "## Downloading GPT-2\n",
        "\n",
        "If you're retraining a model on new text, you need to download the GPT-2 model first. \n",
        "\n",
        "There are three released sizes of GPT-2:\n",
        "\n",
        "* `124M` (default): the \"small\" model, 500MB on disk.\n",
        "* `355M`: the \"medium\" model, 1.5GB on disk.\n",
        "* `774M`: the \"large\" model, cannot currently be finetuned with Colaboratory but can be used to generate text from the pretrained model (see later in Notebook)\n",
        "* `1558M`: the \"extra large\", true model. Will not work if a K80/P4 GPU is attached to the notebook. (like `774M`, it cannot be finetuned).\n",
        "\n",
        "Larger models have more knowledge, but take longer to finetune and longer to generate text. You can specify which base model to use by changing `model_name` in the cells below.\n",
        "\n",
        "The next cell downloads it from Google Cloud Storage and saves it in the Colaboratory VM at `/models/<model_name>`.\n",
        "\n",
        "This model isn't permanently saved in the Colaboratory VM; you'll have to redownload it if you want to retrain it at a later time."
      ]
    },
    {
      "cell_type": "code",
      "metadata": {
        "id": "P8wSlgXoDPCR",
        "colab": {
          "base_uri": "https://localhost:8080/"
        },
        "outputId": "ab510ed8-2754-4ef6-acfb-142c233e480b"
      },
      "source": [
        "gpt2.download_gpt2(model_name=\"355M\")"
      ],
      "execution_count": 3,
      "outputs": [
        {
          "output_type": "stream",
          "text": [
            "Fetching checkpoint: 1.05Mit [00:00, 286Mit/s]                                                      \n",
            "Fetching encoder.json: 1.05Mit [00:00, 3.57Mit/s]\n",
            "Fetching hparams.json: 1.05Mit [00:00, 238Mit/s]                                                    \n",
            "Fetching model.ckpt.data-00000-of-00001: 1.42Git [00:39, 35.5Mit/s]                                 \n",
            "Fetching model.ckpt.index: 1.05Mit [00:00, 414Mit/s]                                                \n",
            "Fetching model.ckpt.meta: 1.05Mit [00:00, 3.96Mit/s]\n",
            "Fetching vocab.bpe: 1.05Mit [00:00, 5.67Mit/s]\n"
          ],
          "name": "stderr"
        }
      ]
    },
    {
      "cell_type": "markdown",
      "metadata": {
        "id": "N8KXuKWzQSsN"
      },
      "source": [
        "## Mounting Google Drive\n",
        "\n",
        "The best way to get input text to-be-trained into the Colaboratory VM, and to get the trained model *out* of Colaboratory, is to route it through Google Drive *first*.\n",
        "\n",
        "Running this cell (which will only work in Colaboratory) will mount your personal Google Drive in the VM, which later cells can use to get data in/out. (it will ask for an auth code; that auth is not saved anywhere)"
      ]
    },
    {
      "cell_type": "code",
      "metadata": {
        "id": "puq4iC6vUAHc",
        "colab": {
          "base_uri": "https://localhost:8080/"
        },
        "outputId": "d8535ea9-3e48-43bb-d7f8-55271304580b"
      },
      "source": [
        "gpt2.mount_gdrive()"
      ],
      "execution_count": 4,
      "outputs": [
        {
          "output_type": "stream",
          "text": [
            "Mounted at /content/drive\n"
          ],
          "name": "stdout"
        }
      ]
    },
    {
      "cell_type": "markdown",
      "metadata": {
        "id": "BT__brhBCvJu"
      },
      "source": [
        "## Uploading a Text File to be Trained to Colaboratory\n",
        "\n",
        "In the Colaboratory Notebook sidebar on the left of the screen, select *Files*. From there you can upload files:\n",
        "\n",
        "![alt text](https://i.imgur.com/TGcZT4h.png)\n",
        "\n",
        "Upload **any smaller text file**  (<10 MB) and update the file name in the cell below, then run the cell."
      ]
    },
    {
      "cell_type": "code",
      "metadata": {
        "id": "6OFnPCLADfll"
      },
      "source": [
        "file_name = \"fotr.txt\""
      ],
      "execution_count": 6,
      "outputs": []
    },
    {
      "cell_type": "markdown",
      "metadata": {
        "id": "HeeSKtNWUedE"
      },
      "source": [
        "If your text file is larger than 10MB, it is recommended to upload that file to Google Drive first, then copy that file from Google Drive to the Colaboratory VM."
      ]
    },
    {
      "cell_type": "code",
      "metadata": {
        "id": "-Z6okFD8VKtS"
      },
      "source": [
        "gpt2.copy_file_from_gdrive(file_name)"
      ],
      "execution_count": null,
      "outputs": []
    },
    {
      "cell_type": "markdown",
      "metadata": {
        "id": "LdpZQXknFNY3"
      },
      "source": [
        "## Finetune GPT-2\n",
        "\n",
        "The next cell will start the actual finetuning of GPT-2. It creates a persistent TensorFlow session which stores the training config, then runs the training for the specified number of `steps`. (to have the finetuning run indefinitely, set `steps = -1`)\n",
        "\n",
        "The model checkpoints will be saved in `/checkpoint/run1` by default. The checkpoints are saved every 500 steps (can be changed) and when the cell is stopped.\n",
        "\n",
        "The training might time out after 4ish hours; make sure you end training and save the results so you don't lose them!\n",
        "\n",
        "**IMPORTANT NOTE:** If you want to rerun this cell, **restart the VM first** (Runtime -> Restart Runtime). You will need to rerun imports but not recopy files.\n",
        "\n",
        "Other optional-but-helpful parameters for `gpt2.finetune`:\n",
        "\n",
        "\n",
        "*  **`restore_from`**: Set to `fresh` to start training from the base GPT-2, or set to `latest` to restart training from an existing checkpoint.\n",
        "* **`sample_every`**: Number of steps to print example output\n",
        "* **`print_every`**: Number of steps to print training progress.\n",
        "* **`learning_rate`**:  Learning rate for the training. (default `1e-4`, can lower to `1e-5` if you have <1MB input data)\n",
        "*  **`run_name`**: subfolder within `checkpoint` to save the model. This is useful if you want to work with multiple models (will also need to specify  `run_name` when loading the model)\n",
        "* **`overwrite`**: Set to `True` if you want to continue finetuning an existing model (w/ `restore_from='latest'`) without creating duplicate copies. "
      ]
    },
    {
      "cell_type": "code",
      "metadata": {
        "id": "aeXshJM-Cuaf",
        "colab": {
          "base_uri": "https://localhost:8080/"
        },
        "outputId": "ddb4c731-74b6-45bc-8c33-e5b42dec3033"
      },
      "source": [
        "sess = gpt2.start_tf_sess()\n",
        "\n",
        "gpt2.finetune(sess,\n",
        "              dataset=file_name,\n",
        "              model_name='355M',\n",
        "              steps=500,\n",
        "              restore_from='fresh',\n",
        "              run_name='run1',\n",
        "              print_every=10,\n",
        "              sample_every=100,\n",
        "              save_every=200\n",
        "              )"
      ],
      "execution_count": 7,
      "outputs": [
        {
          "output_type": "stream",
          "text": [
            "WARNING:tensorflow:From /usr/local/lib/python3.6/dist-packages/gpt_2_simple/src/sample.py:17: where (from tensorflow.python.ops.array_ops) is deprecated and will be removed in a future version.\n",
            "Instructions for updating:\n",
            "Use tf.where in 2.0, which has the same broadcast rule as np.where\n",
            "WARNING:tensorflow:From /usr/local/lib/python3.6/dist-packages/gpt_2_simple/src/memory_saving_gradients.py:62: get_backward_walk_ops (from tensorflow.contrib.graph_editor.select) is deprecated and will be removed after 2019-06-06.\n",
            "Instructions for updating:\n",
            "Please use tensorflow.python.ops.op_selector.get_backward_walk_ops.\n",
            "Loading checkpoint models/355M/model.ckpt\n",
            "INFO:tensorflow:Restoring parameters from models/355M/model.ckpt\n"
          ],
          "name": "stdout"
        },
        {
          "output_type": "stream",
          "text": [
            "\r  0%|          | 0/1 [00:00<?, ?it/s]"
          ],
          "name": "stderr"
        },
        {
          "output_type": "stream",
          "text": [
            "Loading dataset...\n"
          ],
          "name": "stdout"
        },
        {
          "output_type": "stream",
          "text": [
            "100%|██████████| 1/1 [00:00<00:00,  3.95it/s]\n"
          ],
          "name": "stderr"
        },
        {
          "output_type": "stream",
          "text": [
            "dataset has 40839 tokens\n",
            "Training...\n",
            "[10 | 24.10] loss=3.05 avg=3.05\n",
            "[20 | 39.24] loss=2.81 avg=2.93\n",
            "[30 | 54.56] loss=1.84 avg=2.56\n",
            "[40 | 70.11] loss=2.35 avg=2.51\n",
            "[50 | 85.85] loss=2.55 avg=2.52\n",
            "[60 | 101.76] loss=1.88 avg=2.41\n",
            "[70 | 117.92] loss=1.59 avg=2.29\n",
            "[80 | 134.31] loss=1.66 avg=2.21\n",
            "[90 | 150.75] loss=0.76 avg=2.04\n",
            "[100 | 167.32] loss=1.65 avg=2.00\n",
            "======== SAMPLE 1 ========\n",
            ", and put his hand on the shoulder of his chair as though someone were there.) (Saruman comes over and sits beside Gandalf. Gandalf turns to the Elves)\n",
            "\n",
            "(The Fellowship enters the Mines of Moria)\n",
            "\n",
            "Gandalf: Aragorn is hidden there.\n",
            "\n",
            "Saruman: It is well known that Legolas has a hand in this task. But there is yet one who can prevent his death.\n",
            "\n",
            "Aragorn: I will leave my sword in the room, Saruman. Even in the darkest places, it will be of service.\n",
            "\n",
            "(Saruman starts to get into a great mood)\n",
            "\n",
            "Aragorn: Saruman. (Aragorn gestures to the other side of the room) The Master Sword, hidden there. And look what has happened to Gandalf! The quest is being carried out with all haste. I bid you all a fond farewell. (He kisses Gandalf on the cheek) Good bye.\n",
            "\n",
            "Gandalf: Good luck, Saruman. (Aragorn puts his arm around Saruman) It is a great honour to farewell so noble an archer.\n",
            "\n",
            "(The Fellowship walks into the Mines of Moria)\n",
            "\n",
            "(The Fellowship enter a cavern and looks down upon the Great Plateau. There, the Nazgúl are seen hurryingly filling the many caskets prepared for them. The Nazgúl carry their swords in their hands and the chains that bound them are still tight. The palantir is seen waving its tentacles in the wind. Some seem eager to get out of the confines of the cavern. Saruman walks slowly along the walls, watching the few who are moving about)\n",
            "\n",
            "Saruman: All these ages ago, orcs once roamed the shores of Lake Imladris. One day, Sauron showed them the Eye of Sauron, a piece of magic stone that could be used for good or evil. For the Nazgúl wished to keep it for themselves. In the end, it will show how far they have gone. But it is not yet final. The Ring must be removed from Imladris.\n",
            "\n",
            "(The Fellowship follows Saruman, who strides in small groups. They enter a large cavern and begin to fill the caskets. In one corner, Bilbo is stuffing a dead frog with flour)\n",
            "\n",
            "Bilbo: The frog was good enough in its own right. Took my mother's roast!\n",
            "\n",
            "(Bilbo shakes him off, the party begins.)\n",
            "\n",
            "(Scene cuts back to Isildur atop Balin. He is lying on his back in the middle of the floor. He opens his eyes in thought. Then he sees Isildur and begins to weep. Aragorn stands behind Isildur, his hand over his shoulder. They sit down and begin to talk)\n",
            "\n",
            "Aragorn: Isildur. I think I’m beginning to like you.\n",
            "\n",
            "Isildur: My old friend.\n",
            "\n",
            "Aragorn: (indignantly to himself) Bilbo.\n",
            "\n",
            "Isildur: You are not alone, Bilbo. We will find someone to take the Ring off you. Something powerful has been plotting your destruction for some time. For I have seen it work. Sauron’s Eye. Mordor seen it. The Eye of Sauron. It will fall to the lot of us all. But be warned… (to the Ring on Isildur’s palm) it has a dark side. Not all allies are created equal.\n",
            "\n",
            "(Scene cuts back to Isildur and Bilbo, in the hobbit side bar)\n",
            "\n",
            "Bilbo: One of the Ring-bearers has tried to take the Ring. (beat)He tried to take it from Isildur. The enemy knows this. It’s why Sauron is fighting. He knows what his own side is capable of.\n",
            "\n",
            "(Isildur is lying on his side on the floor. He looks at the Ring hanging on a chain around Isildur’s neck. His eyes narrow and he stares at the chain. Then he hears the call of the Nazgúl from a distance. He turns towards the sound and turns towards Aragorn)\n",
            "\n",
            "Bilbo: It has taken the one who could have stopped it. It still has a way to go. One cannot know in all ways all things.\n",
            "\n",
            "(Isildur begins to sob)\n",
            "\n",
            "Bilbo: Aragorn, where is the Ring?\n",
            "\n",
            "(Scene cuts back to the Shire.)\n",
            "\n",
            "(At the Nazgúl encampment, Legolas, Pippin, and Boromir are gathered around a campfire. Boromir reaches out to touch the Ring, but he quickly stands up and looks at the others.)\n",
            "\n",
            "Boromir: None of you\n",
            "\n",
            "[110 | 208.81] loss=1.16 avg=1.92\n",
            "[120 | 225.99] loss=1.06 avg=1.84\n",
            "[130 | 243.14] loss=0.75 avg=1.75\n",
            "[140 | 260.17] loss=0.66 avg=1.67\n",
            "[150 | 277.14] loss=0.71 avg=1.60\n",
            "[160 | 294.24] loss=1.54 avg=1.60\n",
            "[170 | 311.34] loss=1.29 avg=1.58\n",
            "[180 | 328.51] loss=0.29 avg=1.50\n",
            "[190 | 345.71] loss=0.42 avg=1.44\n",
            "[200 | 362.91] loss=0.19 avg=1.37\n",
            "Saving checkpoint/run1/model-200\n",
            "======== SAMPLE 1 ========\n",
            "ens, hobbit-heads, haggard, hungry)\n",
            "\n",
            "Bilbo: (talking to Frodo in a low, husky voice) I see your face. \n",
            "\n",
            "Bilbo: (whispering excitedly) I thought you might like a second or two of my attention. \n",
            "\n",
            "(Frodo tilts his head slightly, turning the corner as Bilbo twirls his staff and archers at him. The hobbit-heads and haggard hoss are put out of their misery. It looks like they think they see something. Bilbo watches Gandalf leave, turning back to his own corner. Gandalf continues to look bewildered. Bilbo watches him walk away, turning his own corner and growing fitter.)\n",
            "\n",
            "Bilbo: Have you been to Bag End or Isengard yet? \n",
            "\n",
            "Frodo: (turning his head slightly to the side and looking around the dungeon) No, sir.\n",
            "\n",
            "Bilbo: Have you been outside? \n",
            "\n",
            "Frodo: (walking around and seeing nothing but air and darkness. Then suddenly seeing air and shadows again) Outside? \n",
            "\n",
            "Bilbo: I have been outside. Traveling in the air. My business is besides my love of Middle-Earth. \n",
            "\n",
            "Frodo: (walking over to the tent which Bilbo had pitched) I think you’ll find the road well travelled. \n",
            "\n",
            "Bilbo: I wish I could tell you more, but I must be loyal to the Fellowship. \n",
            "\n",
            "(Frodo starts his tent and settles into a nice, snug spot on the ground. Suddenly, he is startled to find Bilbo has picked up his pace) \n",
            "\n",
            "Bilbo: I heard what the enemy said…“I swear to you I’ll not let the Nazgûl pass under the Green Dragon!”\n",
            "\n",
            "Frodo: (worriedly trying to quiet the others) This is no mere ranger. This is one of them Shadowfax!\n",
            "\n",
            "(Bilbo jumps up and bows to the beckonings. He steps up on a pentagram and begins to carve his name on it) \n",
            "\n",
            "Bilbo: Shadowfax. Covenants of the Shadow. Trust me. This will be the Green Dragon! \n",
            "\n",
            "Gandalf: (excitedly, stepping forward and placing his hand on Bilbo’s shoulder) I do not fear you.\n",
            "\n",
            "Bilbo: Go, Gandalf! Go, go! Run! \n",
            "\n",
            "(Gandalf places his hand on Bilbo’s shoulder)\n",
            "\n",
            "Bilbo: Run, Gandalf! Don’t look back! Go, go, Gandalf! \n",
            "\n",
            "Gandalf: Run! \n",
            "\n",
            "(Bilbo runs towards the end of the hall, and as soon as he comes to an end, he bursts out running towards the stairs. He stops as soon as he reaches the top and gives a great push upwards, climbing the stairs slowly. He turns around and bumps his head onto Gandalf’s shoulder. Gandalf starts to shake and looks towards the hall) \n",
            "\n",
            "Gandalf: I fear the power of the enemy knows no bounds. They will find me. There is no life in the void…only death. All bonds of life are broken…and that which is never to be found. \n",
            "\n",
            "(The black tentacles approaches. Gandalf stretches his hand upwards and stops the tentacles from reaching the others. The others rise and plunge towards the void, yet do not give chase. The tentacles of the demon lord slash downwards, never stopping to breathe. Gandalf closes his eyes and rests on the ground, entranced)\n",
            "\n",
            "Gandalf: Never before have I stood before you, Entebbe. Never before have I looked to the future. I am Entebbe…father to many…and your Guardian Angel. \n",
            "\n",
            "(He close his eyes again, reaches out and moulds his fingers into a sword. The others stand still and watches attentively, as he cuts the sword into two)\n",
            "\n",
            "Gandalf: One by one, the many shall fall. One by one, the many shall rise.\n",
            "\n",
            "(He twists the shaft into a vice and thrust it upwards, but the tentacles of the demon lord clomp onto the cutting edge. Gandalf drops the sword and stares at the tentacles. He lets out a cry and leaps upwards, landing on his back in a crouch. He looks around wildly, trying to orient himself, when the tentacles suddenly surround him. He snaps out of his reverie and whirls around, trying to get away. The tentacles grasp for his arms and drag him towards the far end of the chamber. He shrieks and tackles Gandalf to the floor, tearing him limb from limb. Gandalf gives\n",
            "\n",
            "[210 | 409.76] loss=0.20 avg=1.31\n",
            "[220 | 426.92] loss=0.75 avg=1.28\n",
            "[230 | 443.95] loss=0.11 avg=1.22\n",
            "[240 | 460.98] loss=0.21 avg=1.18\n",
            "[250 | 478.07] loss=0.09 avg=1.13\n",
            "[260 | 495.19] loss=0.13 avg=1.08\n",
            "[270 | 512.39] loss=0.13 avg=1.04\n",
            "[280 | 529.63] loss=0.09 avg=1.00\n",
            "[290 | 546.81] loss=0.17 avg=0.97\n",
            "[300 | 564.02] loss=0.16 avg=0.94\n",
            "======== SAMPLE 1 ========\n",
            " burning ?\" Sam’s eyes widen) \n",
            "\n",
            "Frodo: He’s a riddles game! A riddle game! \n",
            "\n",
            "Sam: I thought you’d stop playing them. \n",
            "\n",
            "Frodo: I think I’d just stick them in my pocket. (shows Ring of Grounding him) \n",
            "\n",
            "Sam: You’re right, Frodo. If the Elves ever wanted to talk to us, they’d have to travel great distances to do so. \n",
            "\n",
            "Frodo: I can help them, if I know where to find the right person. \n",
            "\n",
            "Sam: I can help you, if only you’d let me. \n",
            "\n",
            "Frodo: I can help you find the right person, even if it means breaking the news to your mother. \n",
            "\n",
            "Amelia: Breaking the news to her? \n",
            "\n",
            "Frodo: Yes, yes. She’s very upset. \n",
            "\n",
            "(she sits with her hands folded in her lap, rocking back and forth)\n",
            "\n",
            "Sam: She’s upset that I brought this upon myself. \n",
            "\n",
            "Frodo: Not really. \n",
            "\n",
            "Sam: I’m sorry if I upset her. \n",
            "\n",
            "Frodo: I think she’s getting the point. \n",
            "\n",
            "(she picks up a small stone and signals to the others)\n",
            "\n",
            "Aragorn: Run! Run! \n",
            "\n",
            "(Legolas shoots three orcs with his bow, then runs forward, down the hall, and up to Aragorn, who is now inside the library. He is reading a book when he is interrupted by Legolas. Legolas, pointing a sword at an orc, draws his bow again and shoots the other three orcs in the back of their heads.) \n",
            "\n",
            "Pippin: Bow down! Bow down! \n",
            "\n",
            "(The Fellowship comes running out of the library, and enters a narrow passageway that takes them through a field of wheat before turning left and running into the valley where they had their battle. Many of the Orcs are to their right, pointing their weapons at the Fellowship as they run down the steep hill. Boromir comes out from behind a tree, carrying a sword)\n",
            "\n",
            "Boromir: I would have gone with you to the end. Lost in the maze of the Shard; clawing my way out of the mazes of the Deep. Spotted by the White foot. Lost in the woodlands of Saruman. Smug and sad and lonely. \n",
            "\n",
            "Sam: He’s gone now. \n",
            "\n",
            "Boromir: But...but... \n",
            "\n",
            "Sam: He’s left you Merry and Pippin. Where are you going? \n",
            "\n",
            "Frodo: To stay with the Ring, that is. \n",
            "\n",
            "Boromir: I can help you with that. For I know a place where your father can be reached. \n",
            "\n",
            "(Merry and Pippin are sitting on a stone above a little pool inside the walls of Bag End)\n",
            "\n",
            "Pippin:(standing up after setting down his sword)\n",
            "\n",
            "Merry: And found it his pleasure to give you both your due.\n",
            "\n",
            "Pippin: You found it my pleasure, and I thank you for it.\n",
            "\n",
            "(Boromir and Aragorn are sitting in front of the door to the hobbit home. They look at each other in surprise)\n",
            "\n",
            "Boromir: So you’re the one to look forward to, then. \n",
            "\n",
            "(Aragorn bursts into laughter)\n",
            "\n",
            "Boromir: It should’ve ended that day, but evil was allowed to endure. \n",
            "\n",
            "(The Fellowship enters the hobbit’s home, and finds that the door has been left ajar. They enter, and after knocking on the door several times, finally getting a response from it, the Fellowship comes rushing out. They throw rocks at it, and it uses its spider legs to drag them off. Gandalf and Gimli take turns kicking the door down and locking it. Legolas laughs and claps. Nenya is seen on the wall behind the hobbit’s bed, and it glows a vibrant orange. Merry lights a cigarette and pats his head. Pippin removes his hood and reveals himself to be Merry)\n",
            "\n",
            "Merry: Hey, Pippin!\n",
            "\n",
            "(Merry puts his arm around Pippin and leads him into the kitchen where they sit)\n",
            "\n",
            "Merry: So, how are you liking your rest of the summer?\n",
            "\n",
            "Pippin: Better than summer before!\n",
            "\n",
            "(All the Hobbits jump up and join in with Merry and Pippin at the table)\n",
            "\n",
            "Merry: And I think we shall\n",
            "\n",
            "[310 | 602.92] loss=0.30 avg=0.92\n",
            "[320 | 619.88] loss=0.08 avg=0.89\n",
            "[330 | 636.92] loss=1.36 avg=0.90\n",
            "[340 | 654.11] loss=0.14 avg=0.88\n",
            "[350 | 671.35] loss=0.08 avg=0.85\n",
            "[360 | 688.57] loss=0.07 avg=0.82\n",
            "[370 | 705.72] loss=0.61 avg=0.82\n",
            "[380 | 722.81] loss=0.16 avg=0.80\n",
            "[390 | 739.89] loss=0.08 avg=0.77\n",
            "[400 | 756.93] loss=0.08 avg=0.75\n",
            "Saving checkpoint/run1/model-400\n",
            "WARNING:tensorflow:From /tensorflow-1.15.2/python3.6/tensorflow_core/python/training/saver.py:963: remove_checkpoint (from tensorflow.python.training.checkpoint_management) is deprecated and will be removed in a future version.\n",
            "Instructions for updating:\n",
            "Use standard file APIs to delete files with this prefix.\n",
            "======== SAMPLE 1 ========\n",
            "ipparidar\n",
            "\n",
            "(Frodo looks up, alarmed) \n",
            "\n",
            "Frodo: What are they? \n",
            "\n",
            "Gandalf: They were once Men, then women, and then men again. (they look at each other in confusion) Then there were four rings; the four rings that now bind us. One by one they will disappear unless you will find them.\n",
            "\n",
            "(Gandalf opens his hand, offering the four rings to Frodo) \n",
            "\n",
            "Gandalf: One of the four rings is near. Find it and bring it to me. I will restore it to its former glory.\n",
            "\n",
            "(Gandalf closes his hand, taking the ring from Frodo) \n",
            "\n",
            "Gandalf: No. (to himself) No. He’ll never get it. \n",
            "\n",
            "(Gandalf places the ring in his hand)\n",
            "\n",
            "Gandalf: (to Frodo) You can ask Gandalf, but to his knowledge, there is no other way. \n",
            "\n",
            "(Pippin runs out from the chamber, towards the door)\n",
            "\n",
            "Merry: Pippin! \n",
            "\n",
            "(Merry turns around, sees Gandalf behind the door)\n",
            "\n",
            "Merry: Pippin! \n",
            "\n",
            "(Pippin sees the Ring in his hand. He reaches for it. Gandalf stops his hand) \n",
            "\n",
            "Gandalf: No. (to himself) No. He’ll never get it. \n",
            "\n",
            "(Gandalf opens his hand again)\n",
            "\n",
            "Gandalf: (v.o.) It has been placed in the will of the council, and is irreplaceable. Should you fail to secure its return, the Ring will forever be with you. Trust me, Frodo. It’s in the Shire. I have found it. And it will be returned to you.\n",
            "\n",
            "(Gandalf closes his hand again, this time holding the Ring in his palm. He slowly raises his arm, signaling that he’s about to strike out at Gandalf)\n",
            "\n",
            "Merry: (standing on the corner) Hold it! Gandalf!\n",
            "\n",
            "(Gandalf stuffs the Ring in his back pocket. Appearing back in the Shire)\n",
            "\n",
            "Pippin: Where’s that Ring?\n",
            "\n",
            "(Pippin runs into Gandalf’s arms, weeping)\n",
            "\n",
            "Gandalf: There’s no Bagginses around here. They’re all alone. And there’s only one who can give you the Ring: you’ll have to look to another champion. \n",
            "\n",
            "Pippin: I know! I’m getting the Ring! \n",
            "\n",
            "(Pippin rings the bell several times, trying to get it out of his pocket. Gandalf finally grabs his staff and knocks the Ring out of Pippin’s hand)\n",
            "\n",
            "Gandalf: You can’t get it out! \n",
            "\n",
            "Pippin: Get it out! \n",
            "\n",
            "(Gandalf grabs his staff again and knocks the Ring out of Pippin’s hand again. He then pulls the Ring out of his pocket and places it back in his. Both he and Pippin look at Gandalf in surprise)\n",
            "\n",
            "Gandalf: You can’t get it out! \n",
            "\n",
            "Pippin: Get it out! Get it out! \n",
            "\n",
            "(Gandalf grasps the Ring in his hand once again)\n",
            "\n",
            "Gandalf: Hold it! More magic! More power! \n",
            "\n",
            "(Gandalf grabs his staff and walks around, yelling)\n",
            "\n",
            "Gandalf: More power! More magic! More power! \n",
            "\n",
            "(As soon as Gandalf has completed his chant, the Ring flies into the air, hovering just above the heads of the three Hobbits. They jump, and clap, and cluck as they watch. Gandalf then adds, in a low voice, \"More power to the Bagginses!\") \n",
            "\n",
            "Gandalf: More power! More magic! More power! \n",
            "\n",
            "(The Ring flies over them, gliding over the heads of the Hobbits with each clap, and the three Bagginses clap, too. They watch the Ring fly, enjoying its flight. Pippin and Merry suddenly awake, sitting up in the bed that they and Sam occupy in Strider’s room. Sam looks at Pippin, who nods with his eyes still shut).\n",
            "\n",
            "Sam: I think I’m getting the hang of this.\n",
            "\n",
            "Pippin: You’re right Sam. We should get out of the Shire. \n",
            "\n",
            "Merry: What do we do now?\n",
            "\n",
            "(Pippin and Merry suddenly awake, sitting up in the bed\n",
            "\n",
            "[410 | 803.23] loss=0.13 avg=0.74\n",
            "[420 | 820.37] loss=0.12 avg=0.72\n",
            "[430 | 837.34] loss=0.09 avg=0.70\n",
            "[440 | 854.40] loss=0.13 avg=0.68\n",
            "[450 | 871.56] loss=0.08 avg=0.67\n",
            "[460 | 888.81] loss=0.06 avg=0.65\n",
            "[470 | 905.98] loss=0.08 avg=0.64\n",
            "[480 | 923.13] loss=0.02 avg=0.62\n",
            "[490 | 940.23] loss=0.05 avg=0.60\n",
            "[500 | 957.32] loss=0.07 avg=0.59\n",
            "Saving checkpoint/run1/model-500\n"
          ],
          "name": "stdout"
        }
      ]
    },
    {
      "cell_type": "markdown",
      "metadata": {
        "id": "IXSuTNERaw6K"
      },
      "source": [
        "After the model is trained, you can copy the checkpoint folder to your own Google Drive.\n",
        "\n",
        "If you want to download it to your personal computer, it's strongly recommended you copy it there first, then download from Google Drive. The checkpoint folder is copied as a `.rar` compressed file; you can download it and uncompress it locally."
      ]
    },
    {
      "cell_type": "code",
      "metadata": {
        "id": "VHdTL8NDbAh3"
      },
      "source": [
        "gpt2.copy_checkpoint_to_gdrive(run_name='run1')"
      ],
      "execution_count": 8,
      "outputs": []
    },
    {
      "cell_type": "markdown",
      "metadata": {
        "id": "qQJgV_b4bmzd"
      },
      "source": [
        "You're done! Feel free to go to the **Generate Text From The Trained Model** section to generate text based on your retrained model."
      ]
    },
    {
      "cell_type": "markdown",
      "metadata": {
        "id": "pel-uBULXO2L"
      },
      "source": [
        "## Load a Trained Model Checkpoint\n",
        "\n",
        "Running the next cell will copy the `.rar` checkpoint file from your Google Drive into the Colaboratory VM."
      ]
    },
    {
      "cell_type": "code",
      "metadata": {
        "id": "DCcx5u7sbPTD"
      },
      "source": [
        "gpt2.copy_checkpoint_from_gdrive(run_name='run1')"
      ],
      "execution_count": 9,
      "outputs": []
    },
    {
      "cell_type": "markdown",
      "metadata": {
        "id": "RTa6zf3e_9gV"
      },
      "source": [
        "The next cell will allow you to load the retrained model checkpoint + metadata necessary to generate text.\n",
        "\n",
        "**IMPORTANT NOTE:** If you want to rerun this cell, **restart the VM first** (Runtime -> Restart Runtime). You will need to rerun imports but not recopy files."
      ]
    },
    {
      "cell_type": "code",
      "metadata": {
        "id": "-fxL77nvAMAX",
        "colab": {
          "base_uri": "https://localhost:8080/"
        },
        "outputId": "94a12cf8-9051-4f60-eae9-172512563c13"
      },
      "source": [
        "import tensorflow as tf\n",
        "tf.reset_default_graph()\n",
        "sess = gpt2.start_tf_sess()\n",
        "gpt2.load_gpt2(sess, run_name='run1')"
      ],
      "execution_count": 10,
      "outputs": [
        {
          "output_type": "stream",
          "text": [
            "Loading checkpoint checkpoint/run1/model-500\n",
            "INFO:tensorflow:Restoring parameters from checkpoint/run1/model-500\n"
          ],
          "name": "stdout"
        }
      ]
    },
    {
      "cell_type": "markdown",
      "metadata": {
        "id": "ClJwpF_ACONp"
      },
      "source": [
        "## Generate Text From The Trained Model\n",
        "\n",
        "After you've trained the model or loaded a retrained model from checkpoint, you can now generate text. `generate` generates a single text from the loaded model."
      ]
    },
    {
      "cell_type": "code",
      "metadata": {
        "id": "4RNY6RBI9LmL",
        "colab": {
          "base_uri": "https://localhost:8080/"
        },
        "outputId": "60fb07cf-7aad-4c84-de7e-07901d3df2ad"
      },
      "source": [
        "gpt2.generate(sess, run_name='run1')"
      ],
      "execution_count": 11,
      "outputs": [
        {
          "output_type": "stream",
          "text": [
            "Gimli: Now there’s an army! And they are coming fast! \n",
            "\n",
            "War is brewing in the East-lands. \n",
            "\n",
            "(Aerys is on the move. Scouting the battlefield, he spot’s a corpse on the ground. Curiously, he reaches out and takes it, placing the sickle on the wound. The corpse turns towards him, and as he approaches the City, the dead rise and surround him. He tries to get away, running for his life. But the dead keep coming. His courage fades. And when it wears off, his will to live fades.)\n",
            "\n",
            "(Aerys turns and picks up a fallen arrow from the corpse. He walks towards the City and finds a group of Aragornid marching towards him. He takes of running, and so does the others. As he draws near to the West Gate, the dead rise up around him. As he reaches the City, he sees the Nazgûl around him and calls out to them, trying to get them away from him. But they won’t listen to him. They surround him. His clothes burn. His flesh starts to turn black. His mind becomes a blur. His spirit is ripped from him. He is in the grip of a demon. \n",
            "\n",
            "(Aerys tries to get them to let him go, but each time he tries to take them back he is surrounded by more demons. And every time he tries to leave, they surround him again. And again. And again. And again. And again.)\n",
            "\n",
            "(Aerys tries to get away, but every time he runs away from the clutches of the Witch King he is surrounded by more and more powerful wizards and witches. And every time he tries to get away, they surround him. His clothes become damp with demon blood. His flesh begins to turn black from the demon bite. And his mind becomes a blur. His eyes search the battlefield for a sign that he is being watched. But there is none to be seen here. Not one living thing. Not one living thing!)\n",
            "\n",
            "(Aerys is on the ground, his hand groping through the dirt until it stumbles upon the She-elub.}\n",
            "\n",
            "Elrond: A Silmaril is worth ten Shire coins.\n",
            "\n",
            "(He hands it to Frodo, who takes it eagerly. Frodo looks at the She-elub with a mixture of fear and anger in his eyes. Sam notices this and runs over to him)\n",
            "\n",
            "Sam: Hey! Look out for the Rivendell! \n",
            "\n",
            "Frodo: This is for you! \n",
            "\n",
            "(They run out the door and into the next street which takes them through another set of arched doors which lead to a courtyard with a plaza and a bridge over it. There are more than a few figures on the ground here. Amongst them, a Nazgûl is seen running through the grassy meadows)\n",
            "\n",
            "Nazgûl: What are you going to do, then?\n",
            "\n",
            "Gandalf: Just leave it.\n",
            "\n",
            "(Frodo frowns and turns towards Gandalf) \n",
            "\n",
            "Frodo: Gandalf? \n",
            "\n",
            "Gandalf: Leave it. There is much to be said for this Ring. \n",
            "\n",
            "(Gandalf takes a step forward, out of the grassy meadows, and addresses the Nazgûl)\n",
            "\n",
            "Gandalf: I will not take it. Not again. Not when you carry it. \n",
            "\n",
            "(The Nazgûl raises his sword against Gandalf. Gandalf lets out a breath he did not expect)\n",
            "\n",
            "Gandalf: I will take it to the end. I will take it to the end of the world. \n",
            "\n",
            "(Gandalf walks past a pavilion with a bridge over a stream. A Nazgúl appears and passes under the bridge. Gandalf follows the Nazgûl over the pavilion and into the next hall. Saruman shows up and passes under the pavilion again. Saruman: You cannot hide! I see you! \n",
            "\n",
            "(The Nazgûl and Saruman have stopped arguing. Both men have set up camp around a corner which is where they stand. Both are looking at the hall which has a sign that says \"Welcome to the Westfarthing\" written in blood on it. The Nazgûl asks Gandalf if he knows who the other half is. Gandalf says he doesn’t know but he knows he isn’t being watched. He turns to the half-lings and says:\n",
            "\n",
            "Gandalf: This is no ordinary Westfarthing. \n",
            "\n",
            "(Dogs begin to bark and a man yells angrily. Gandalf turns to Saruman and says:\n",
            "\n",
            "Gandalf: This is no ordinary Westfarthing. You will not hide! I see\n"
          ],
          "name": "stdout"
        }
      ]
    },
    {
      "cell_type": "markdown",
      "metadata": {
        "id": "oF4-PqF0Fl7R"
      },
      "source": [
        "If you're creating an API based on your model and need to pass the generated text elsewhere, you can do `text = gpt2.generate(sess, return_as_list=True)[0]`\n",
        "\n",
        "You can also pass in a `prefix` to the generate function to force the text to start with a given character sequence and generate text from there (good if you add an indicator when the text starts).\n",
        "\n",
        "You can also generate multiple texts at a time by specifing `nsamples`. Unique to GPT-2, you can pass a `batch_size` to generate multiple samples in parallel, giving a massive speedup (in Colaboratory, set a maximum of 20 for `batch_size`).\n",
        "\n",
        "Other optional-but-helpful parameters for `gpt2.generate` and friends:\n",
        "\n",
        "*  **`length`**: Number of tokens to generate (default 1023, the maximum)\n",
        "* **`temperature`**: The higher the temperature, the crazier the text (default 0.7, recommended to keep between 0.7 and 1.0)\n",
        "* **`top_k`**: Limits the generated guesses to the top *k* guesses (default 0 which disables the behavior; if the generated output is super crazy, you may want to set `top_k=40`)\n",
        "* **`top_p`**: Nucleus sampling: limits the generated guesses to a cumulative probability. (gets good results on a dataset with `top_p=0.9`)\n",
        "* **`truncate`**: Truncates the input text until a given sequence, excluding that sequence (e.g. if `truncate='<|endoftext|>'`, the returned text will include everything before the first `<|endoftext|>`). It may be useful to combine this with a smaller `length` if the input texts are short.\n",
        "*  **`include_prefix`**: If using `truncate` and `include_prefix=False`, the specified `prefix` will not be included in the returned text."
      ]
    },
    {
      "cell_type": "code",
      "metadata": {
        "id": "8DKMc0fiej4N",
        "colab": {
          "base_uri": "https://localhost:8080/"
        },
        "outputId": "b563a991-3fdd-408e-b1ed-70d7399b4450"
      },
      "source": [
        "gpt2.generate(sess,\n",
        "              length=100,\n",
        "              temperature=0.8,\n",
        "              prefix=\"Aragorn: It's a riddle\",\n",
        "              nsamples=15,\n",
        "              batch_size=5\n",
        "              )"
      ],
      "execution_count": 39,
      "outputs": [
        {
          "output_type": "stream",
          "text": [
            "Aragorn: It's a riddle. Speak “friend” and enter. What’s the Elvish word for friend? \n",
            "\n",
            "Gimli: Mellon\n",
            "\n",
            "(The stone structure begins to crumble and fall into the fires below. Aragorn reaches out to pick it up by its staff, but Boromir grabs his arm to prevent him)\n",
            "\n",
            "Aragorn: Boromir.\n",
            "\n",
            "(The stone structure begins to crumble and fall into the fires below. Legolas reaches out\n",
            "====================\n",
            "Aragorn: It's a riddle. Give me the five rings, and I will make you whole.\n",
            "\n",
            "( Rings can be seen hanging from Gandalf’s neck)\n",
            "\n",
            "Gandalf: Five Rings: ¤Aragorn, a ranger of the South!” What choice do you have? \n",
            "\n",
            "(He reaches out to pull the rings from Gandalf, but Gandalf grabs his arm to stop him)\n",
            "\n",
            "Gandalf: Leave your troubles to them. They will deal you\n",
            "====================\n",
            "Aragorn: It's a riddle. Give me one thing and I will give you everything you ask.\n",
            "\n",
            "Gimli: What are you going to do, then?\n",
            "\n",
            "(Gimli pauses momentarily, looking at the doors)\n",
            "\n",
            "Gimli: Are you sure?\n",
            "\n",
            "(He then sees Aragorn, Legolas and Gimli in the party hall, and is about to enter but is stopped by Aragorn)\n",
            "\n",
            "Aragorn: Gimli, you have to stay here\n",
            "====================\n",
            "Aragorn: It's a riddle. One should think that Frodo’s dead, and that c Firen’s heir. But who then would that be? \n",
            "\n",
            "Aragorn: It is a threat that I will not ignore. \n",
            "\n",
            "(Scene cuts to inside Orthanc. Saruman is in the Chamber of the Palantír, and is about to be led into the next room when Aragorn, Legolas, and Gimli appear. Aragorn: Spread\n",
            "====================\n",
            "Aragorn: It's a riddle. If you can tell me the Secret, will you share it with me? \n",
            "\n",
            "Gimli: Sure thing. I know a wizard when I see one. \n",
            "\n",
            "(Merry looks up towards the trees)\n",
            "\n",
            "Merry: There they are. They were once Men- Great Kings of Men. Then Sauron’s power waned. \n",
            "\n",
            "(Aragorn looks up towards the trees)\n",
            "\n",
            "Aragorn: Then Sauron’\n",
            "====================\n",
            "Aragorn: It's a riddle. Make your choice. If you can guess correctly, you will be allowed to enter. But first you must answer one question. What is the Halfling tongue? \n",
            "\n",
            "Gandalf: ‘Pippin!*Frodo!*\n",
            "\n",
            "Pippin: Halfling! \n",
            "\n",
            "Gandalf: Tongue!\n",
            "\n",
            "(The gates of Moria are opened and Bilbo walks in. He sees the two Hobbits and approaches them. They look at\n",
            "====================\n",
            "Aragorn: It's a riddle. How many Runes of Magic can you cast in one sitting?\n",
            "\n",
            "(The Witch King turns towards Aragorn)\n",
            "\n",
            "Witch King: One, Two, Three…\n",
            "\n",
            "Aragorn: One, Two, Three…\n",
            "\n",
            "(Aragorn stands still, looking at the Ring, when the Witch King turns around and sees it, and he and Aragorn exchange nervous glances)\n",
            "\n",
            "Witch King: I thought I’d lost thee.\n",
            "\n",
            "\n",
            "====================\n",
            "Aragorn: It's a riddle. Give me one thing which is beyond my skill to solve. And I will give you one thing which will surprise you even more. \n",
            "\n",
            "Galadriel: What is the Merci Elendil?\n",
            "\n",
            "(She begins to read)\n",
            "\n",
            "Galadriel: “Here lies a girl of fine features, lovely to look upon, yet whose heart is young and whose days are not counted.”\n",
            "\n",
            "Galadriel: A Balrog. A demon of the\n",
            "====================\n",
            "Aragorn: It's a riddle. Speak “friend” and enter. What’s the Elvish word for friend? \n",
            "\n",
            "Gandalf: Mellon\n",
            "\n",
            "(The stone doors remain open, and with each new turn of the key Aragorn makes them wider. The doors stay open all the while the Fellowship walks through them. Aragorn takes of Bill’s bridle as the Fellowship walks by, and Aragorn takes of Bill’s beard as they pass by.\n",
            "====================\n",
            "Aragorn: It's a riddle. One stone answers all. One man, one arrow. \n",
            "\n",
            "Aragorn: Hurry!\n",
            "\n",
            "(Aragorn puts his hand over the side of the boat and releases it. The waves crash against the rocks, causing the boat to topple over. Boromir and Aragorn watch the boat as they see something move in it. Aragorn closes his eyes as he hears something)\n",
            "\n",
            "Aragorn: Frodo?\n",
            "\n",
            "(Aragorn opens\n",
            "====================\n",
            "Aragorn: It's a riddle. Give me one thing you hold aloft that does not gild my armor.\n",
            "\n",
            "Aragorn: One of my many great loves.\n",
            "\n",
            "Gimli: One of my many great loves?\n",
            "\n",
            "(Aragorn starts to unbutton his shirt, when suddenly Legolas grabs him by the collar)\n",
            "\n",
            "Legolas: You are no Aragorn. You do not know what rides in the hearts of men.\n",
            "\n",
            "(Legolas pulls a spear from a\n",
            "====================\n",
            "Aragorn: It's a riddle. One man, One stone, Two roots….\n",
            "\n",
            "Sam: Two roots? Where is the other half coming from?\n",
            "\n",
            "(Aragorn starts to unbutton his shirt, when suddenly Frodo appears from behind some bushes. Aragorn looks at Frodo confusedly)\n",
            "\n",
            "Aragorn: A Silmaril. A halfling of the Rutland Line. Halflings are known to mix with the wild things.\n",
            "\n",
            "(Frodo starts to unravel the r\n",
            "====================\n",
            "Aragorn: It's a riddle. Give me one thing and I will give you everything you ask. What then are you waiting for? There’s food in this world Bilbo! Come on!\n",
            "\n",
            "(Bilbo sits down to look at the food in front of him. His eyes widen when he sees a white cloth wrapped in a purple mantle. Looking around, he sees the two Merry Elves and the two Pippin Strider sitting by the campfire. He smiles at that thought, and removes the\n",
            "====================\n",
            "Aragorn: It's a riddle. Speak “friend” and enter. What’s the Elvish word for friend? \n",
            "\n",
            "Gandalf: Mellon\n",
            "\n",
            "(The stone structure that was once Moria is now known as Men of the Eastmarch. The official name of the Fellowship of the Ring is: “The Fellowship of the Ring: In the Name of the Father and of the Son and of the Holy Grail.\n",
            "\n",
            "(The Fellowship walks in the fresh air and light of\n",
            "====================\n",
            "Aragorn: It's a riddle. Give me the halfling, and I will give you the halfling’s mind.\n",
            "\n",
            "Galadriel: There is only one halfling Baggins. He’s half-witted and half-armstrong. He knows how to fight and how to love.\n",
            "\n",
            "Galadriel: And you are but a halfling halfling halfling! You dwell in the Mines of Moria! Where the dwarves dwell you will find neither halfling halfling nor arm\n",
            "====================\n"
          ],
          "name": "stdout"
        }
      ]
    },
    {
      "cell_type": "markdown",
      "metadata": {
        "id": "zjjEN2Tafhl2"
      },
      "source": [
        "For bulk generation, you can generate a large amount of text to a file and sort out the samples locally on your computer. The next cell will generate a generated text file with a unique timestamp.\n",
        "\n",
        "You can rerun the cells as many times as you want for even more generated texts!"
      ]
    },
    {
      "cell_type": "code",
      "metadata": {
        "id": "Fa6p6arifSL0"
      },
      "source": [
        "gen_file = 'gpt2_gentext_{:%Y%m%d_%H%M%S}.txt'.format(datetime.utcnow())\n",
        "\n",
        "gpt2.generate_to_file(sess,\n",
        "                      destination_path=gen_file,\n",
        "                      length=500,\n",
        "                      temperature=0.7,\n",
        "                      nsamples=100,\n",
        "                      batch_size=20\n",
        "                      )"
      ],
      "execution_count": null,
      "outputs": []
    },
    {
      "cell_type": "code",
      "metadata": {
        "id": "0-LRex8lfv1g"
      },
      "source": [
        "# may have to run twice to get file to download\n",
        "files.download(gen_file)"
      ],
      "execution_count": null,
      "outputs": []
    },
    {
      "cell_type": "markdown",
      "metadata": {
        "id": "QQAN3M6RT7Kj"
      },
      "source": [
        "## Generate Text From The Pretrained Model\n",
        "\n",
        "If you want to generate text from the pretrained model, not a finetuned model, pass `model_name` to `gpt2.load_gpt2()` and `gpt2.generate()`.\n",
        "\n",
        "This is currently the only way to generate text from the 774M or 1558M models with this notebook."
      ]
    },
    {
      "cell_type": "code",
      "metadata": {
        "id": "hsUd_jHgUZnD",
        "colab": {
          "base_uri": "https://localhost:8080/",
          "height": 158
        },
        "outputId": "4e0c8a3f-3527-41c4-e3fe-3357f3f8f6c2"
      },
      "source": [
        "model_name = \"774M\"\n",
        "\n",
        "gpt2.download_gpt2(model_name=model_name)"
      ],
      "execution_count": null,
      "outputs": [
        {
          "output_type": "stream",
          "text": [
            "Fetching checkpoint: 1.05Mit [00:00, 354Mit/s]                                                      \n",
            "Fetching encoder.json: 1.05Mit [00:00, 131Mit/s]                                                    \n",
            "Fetching hparams.json: 1.05Mit [00:00, 279Mit/s]                                                    \n",
            "Fetching model.ckpt.data-00000-of-00001: 3.10Git [00:23, 131Mit/s]                                  \n",
            "Fetching model.ckpt.index: 1.05Mit [00:00, 380Mit/s]                                                \n",
            "Fetching model.ckpt.meta: 2.10Mit [00:00, 226Mit/s]                                                 \n",
            "Fetching vocab.bpe: 1.05Mit [00:00, 199Mit/s]                                                       \n"
          ],
          "name": "stderr"
        }
      ]
    },
    {
      "cell_type": "code",
      "metadata": {
        "id": "BAe4NpKNUj2C",
        "colab": {
          "base_uri": "https://localhost:8080/",
          "height": 124
        },
        "outputId": "b09bfe1d-2ff8-4b8a-fffb-273d28d5d4ae"
      },
      "source": [
        "sess = gpt2.start_tf_sess()\n",
        "\n",
        "gpt2.load_gpt2(sess, model_name=model_name)"
      ],
      "execution_count": null,
      "outputs": [
        {
          "output_type": "stream",
          "text": [
            "WARNING: Logging before flag parsing goes to stderr.\n",
            "W0828 18:37:58.571830 139905369159552 deprecation.py:323] From /usr/local/lib/python3.6/dist-packages/tensorflow/python/training/saver.py:1276: checkpoint_exists (from tensorflow.python.training.checkpoint_management) is deprecated and will be removed in a future version.\n",
            "Instructions for updating:\n",
            "Use standard file APIs to check for files with this prefix.\n"
          ],
          "name": "stderr"
        },
        {
          "output_type": "stream",
          "text": [
            "Loading pretrained model models/774M/model.ckpt\n"
          ],
          "name": "stdout"
        }
      ]
    },
    {
      "cell_type": "code",
      "metadata": {
        "id": "-xInIZKaU104",
        "colab": {
          "base_uri": "https://localhost:8080/",
          "height": 797
        },
        "outputId": "56348e28-7d08-45e3-c859-f26c0efd066d"
      },
      "source": [
        "gpt2.generate(sess,\n",
        "              model_name=model_name,\n",
        "              prefix=\"The secret of life is\",\n",
        "              length=100,\n",
        "              temperature=0.7,\n",
        "              top_p=0.9,\n",
        "              nsamples=5,\n",
        "              batch_size=5\n",
        "              )"
      ],
      "execution_count": null,
      "outputs": [
        {
          "output_type": "stream",
          "text": [
            "The secret of life is that it's really easy to make it complicated,\" said Bill Nye, the host of the popular science show \"Bill Nye the Science Guy.\" \"And this is one of the reasons why we all need to be smarter about science, because we can't keep up with the amazing things that are going on all the time.\"\n",
            "\n",
            "While Nye is correct that \"everything that's going on all the time\" is making the world a better place, he misses the point. This is not\n",
            "====================\n",
            "The secret of life is in the rhythm of the universe. It's not a mystery. It's not a mystery to me. It's the nature of the universe. It's the beauty of the universe. It's the way the universe works. It's the way the universe is. It's the way the universe is going to work. It's the way the universe is. It's the way the universe is. It's the way the universe is. It's the way the universe is. It's the way\n",
            "====================\n",
            "The secret of life is in the universe.\n",
            "\n",
            "\n",
            "-\n",
            "\n",
            "The Red Devil\n",
            "\n",
            "It's the end of the world as we know it, and the only thing that can save us is a band of super-powered individuals known as the Red Devil.\n",
            "\n",
            "\n",
            "The Red Devil is a group of super-powered individuals who are seeking the secret of life and the only way they know how to do it is by taking on the roles of a variety of different super-powered individuals, each of which has their own\n",
            "====================\n",
            "The secret of life is in the mixing of the elements, and it is the mixing of the elements that makes life possible.\"\n",
            "\n",
            "But in the world of food science, the idea of a \"complex\" or \"complexity\" is almost entirely imaginary.\n",
            "\n",
            "As a scientist, I'm fascinated by the question of how life first began.\n",
            "\n",
            "It's the question that drives my work and the work of the scientists who work on it.\n",
            "\n",
            "My current research is exploring how microbes work in the first moments\n",
            "====================\n",
            "The secret of life is the journey of life, the search for the truth.\n",
            "\n",
            "4.4.2. The last thing you know\n",
            "\n",
            "There is nothing more important than the last thing you know.\n",
            "\n",
            "4.4.3. The little things that make all the difference\n",
            "\n",
            "The little things that make all the difference.\n",
            "\n",
            "4.4.4. The truth is the best teacher\n",
            "\n",
            "The truth is the best teacher.\n",
            "\n",
            "4.4.5. The truth is what\n",
            "====================\n"
          ],
          "name": "stdout"
        }
      ]
    },
    {
      "cell_type": "markdown",
      "metadata": {
        "id": "ig-KVgkCDCKD"
      },
      "source": [
        "# Etcetera\n",
        "\n",
        "If the notebook has errors (e.g. GPU Sync Fail), force-kill the Colaboratory virtual machine and restart it with the command below:"
      ]
    },
    {
      "cell_type": "code",
      "metadata": {
        "id": "rIHiVP53FnsX"
      },
      "source": [
        "!kill -9 -1"
      ],
      "execution_count": null,
      "outputs": []
    },
    {
      "cell_type": "markdown",
      "metadata": {
        "id": "wmTXWNUygS5E"
      },
      "source": [
        "# LICENSE\n",
        "\n",
        "MIT License\n",
        "\n",
        "Copyright (c) 2019 Max Woolf\n",
        "\n",
        "Permission is hereby granted, free of charge, to any person obtaining a copy\n",
        "of this software and associated documentation files (the \"Software\"), to deal\n",
        "in the Software without restriction, including without limitation the rights\n",
        "to use, copy, modify, merge, publish, distribute, sublicense, and/or sell\n",
        "copies of the Software, and to permit persons to whom the Software is\n",
        "furnished to do so, subject to the following conditions:\n",
        "\n",
        "The above copyright notice and this permission notice shall be included in all\n",
        "copies or substantial portions of the Software.\n",
        "\n",
        "THE SOFTWARE IS PROVIDED \"AS IS\", WITHOUT WARRANTY OF ANY KIND, EXPRESS OR\n",
        "IMPLIED, INCLUDING BUT NOT LIMITED TO THE WARRANTIES OF MERCHANTABILITY,\n",
        "FITNESS FOR A PARTICULAR PURPOSE AND NONINFRINGEMENT. IN NO EVENT SHALL THE\n",
        "AUTHORS OR COPYRIGHT HOLDERS BE LIABLE FOR ANY CLAIM, DAMAGES OR OTHER\n",
        "LIABILITY, WHETHER IN AN ACTION OF CONTRACT, TORT OR OTHERWISE, ARISING FROM,\n",
        "OUT OF OR IN CONNECTION WITH THE SOFTWARE OR THE USE OR OTHER DEALINGS IN THE\n",
        "SOFTWARE."
      ]
    }
  ]
}